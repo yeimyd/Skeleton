{
 "cells": [
  {
   "cell_type": "code",
   "execution_count": 1,
   "metadata": {},
   "outputs": [
    {
     "data": {
      "text/plain": [
       "<Figure size 1080x360 with 0 Axes>"
      ]
     },
     "metadata": {},
     "output_type": "display_data"
    }
   ],
   "source": [
    "import matplotlib.pyplot as plt\n",
    "import matplotlib as mpl\n",
    "import matplotlib.gridspec as gridspec\n",
    "from mpl_toolkits.axes_grid1 import make_axes_locatable\n",
    "\n",
    "import numpy as np\n",
    "import h5py\n",
    "import pandas as pd\n",
    "\n",
    "from tqdm import tqdm_notebook as tqdm\n",
    "\n",
    "params = {'legend.fontsize': 'x-large',\n",
    "          'figure.figsize': (15, 5),\n",
    "         'axes.labelsize': 25,\n",
    "         'axes.titlesize': 25,\n",
    "         'xtick.labelsize':'x-large',\n",
    "         'ytick.labelsize':'x-large'}\n",
    "mpl.rcParams.update(params)\n",
    "plt.jet()\n",
    "\n",
    "classes = np.array(['Peaks','Filaments','Sheets','Voids'])"
   ]
  },
  {
   "cell_type": "code",
   "execution_count": 2,
   "metadata": {},
   "outputs": [],
   "source": [
    "path = './data/'"
   ]
  },
  {
   "cell_type": "markdown",
   "metadata": {},
   "source": [
    "### Sci-kit learn packages"
   ]
  },
  {
   "cell_type": "code",
   "execution_count": 3,
   "metadata": {},
   "outputs": [
    {
     "name": "stderr",
     "output_type": "stream",
     "text": [
      "/anaconda3/envs/Skeleton/lib/python3.8/site-packages/sklearn/utils/deprecation.py:143: FutureWarning: The sklearn.ensemble.forest module is  deprecated in version 0.22 and will be removed in version 0.24. The corresponding classes / functions should instead be imported from sklearn.ensemble. Anything that cannot be imported from sklearn.ensemble is now part of the private API.\n",
      "  warnings.warn(message, FutureWarning)\n"
     ]
    }
   ],
   "source": [
    "from sklearn.model_selection import train_test_split\n",
    "from sklearn.ensemble.forest import RandomForestClassifier\n",
    "from sklearn.metrics import confusion_matrix\n",
    "from sklearn.utils.multiclass import unique_labels\n",
    "from sklearn.metrics import f1_score\n",
    "import pickle"
   ]
  },
  {
   "cell_type": "markdown",
   "metadata": {},
   "source": [
    "### Evaluating with the example test mock // Using the environment"
   ]
  },
  {
   "cell_type": "code",
   "execution_count": 4,
   "metadata": {},
   "outputs": [
    {
     "name": "stdout",
     "output_type": "stream",
     "text": [
      "['Age', 'Dad', 'Dden', 'Dnc', 'GalaxyMass', 'ID', 'IDG', 'IDH', 'Zformation', 'ad', 'con', 'coor', 'den', 'nc', 'vol']\n"
     ]
    }
   ],
   "source": [
    "#------------ Reading Bsk features catalog\n",
    "filename = path+'example_features.hdf5' # Filename with the features for the model\n",
    "f = h5py.File(filename, 'r')\n",
    "headers = list(f.keys())\n",
    "print(headers)\n",
    "ID = np.array(f['ID'])\n",
    "nc = np.array(f['nc'])\n",
    "x,y,z=np.array(f['coor'])\n",
    "ad = np.array(f['ad'])\n",
    "den = np.array(f['den'])\n",
    "Dnc = np.array(f['Dnc'])\n",
    "Dad = np.array(f['Dad'])\n",
    "Dden = np.array(f['Dden'])\n",
    "IDH= np.array(f['IDH'])\n",
    "IDG=np.array(f['IDG'])\n",
    "zformation=np.array(f['Zformation'])\n",
    "Edad=np.array(f['Age'])\n",
    "Mass=np.array(f['GalaxyMass'])\n",
    "f.close()\n",
    "\n",
    "#------------ Reading the mock catalog to extract environments and positions   \n",
    "#filename = path+'example_mock_test_mass.hdf5'\n",
    "#f = h5py.File(filename, 'r')\n",
    "#headers=list(f.keys())\n",
    "#env_pot = np.array(f['environment']) # 3 void, 2 sheet, 1 filament, 0 peak\n",
    "#x = np.array(f['x'])\n",
    "#y = np.array(f['y']) \n",
    "#z = np.array(f['z'])\n",
    "#f.close()\n",
    "\n",
    "#classes = np.array(['Peaks','Filaments','Sheets','Voids'])\n",
    "#np.set_printoptions(precision=4)\n",
    "       \n",
    "#------------ Defining the features space \n",
    "Xdata = pd.DataFrame({'nc':nc,'ad':ad,'den':den,'Dnc':Dnc,'Dad':Dad,'Dden':Dden})#,'IDH':IDH,'IDG':IDG,'Edad':Edad,'Mass':Mass}) #\n",
    "#Ydata = pd.DataFrame({'env':env_pot})#este es el ambiente\n",
    "\n",
    "#Posdata = pd.DataFrame({'x':x,'y':y, 'z':z})"
   ]
  },
  {
   "cell_type": "code",
   "execution_count": 5,
   "metadata": {},
   "outputs": [
    {
     "name": "stdout",
     "output_type": "stream",
     "text": [
      "RandomForestClassifier(max_depth=10, n_estimators=80)\n"
     ]
    },
    {
     "name": "stderr",
     "output_type": "stream",
     "text": [
      "<ipython-input-5-5a67c5d48dd2>:52: MatplotlibDeprecationWarning: savefig() got unexpected keyword argument \"resterized\" which is no longer supported as of 3.3 and will become an error two minor releases later\n",
      "  plt.savefig('./figures/evaluation.png', bbox_inches='tight', resterized=True, transparent=True)\n"
     ]
    },
    {
     "data": {
      "image/png": "[encoded data removed]",
      "text/plain": [
       "<Figure size 1008x792 with 1 Axes>"
      ]
     },
     "metadata": {
      "needs_background": "light"
     },
     "output_type": "display_data"
    }
   ],
   "source": [
    "fig= plt.figure(figsize=(14,11))\n",
    "\n",
    "#------------ Loading the model\n",
    "clf = pickle.load(open(path+'cosmicweb_bsk_model_mass.sav','rb'))\n",
    "print(clf)\n",
    "\n",
    "Ypred = clf.predict(Xdata)\n",
    "\n",
    "\n",
    "#------------ Confusion Matrix\n",
    "#cm = confusion_matrix(Ydata, Ypred)\n",
    "#classes = classes[unique_labels(Ydata, Ypred)]\n",
    "#cm = cm.astype('float') / cm.sum(axis=1)[:, np.newaxis]\n",
    "\n",
    "#ax = fig.add_subplot(1,2,1)\n",
    "#im = ax.imshow(cm, interpolation='nearest', cmap=plt.cm.Blues)\n",
    "#ax.figure.colorbar(im, ax=ax, pad=0.01, shrink=0.74)\n",
    "#ax.set(xticks=np.arange(cm.shape[1]), yticks=np.arange(cm.shape[0]), xticklabels=classes, yticklabels=classes)\n",
    "#ax.set_xlabel(\"Environment Predicted\",size=20)\n",
    "#ax.set_ylabel(\"Environment True\",size=20)\n",
    "#ax.set_ylim(4-0.5, -0.5)\n",
    "\n",
    "#plt.setp(ax.get_xticklabels(), rotation=15, size=12)\n",
    "#plt.setp(ax.get_yticklabels(), rotation=45, size=12)\n",
    "\n",
    "#fmt = '.2f'\n",
    "#thresh = cm.max()/2.\n",
    "#for i in range(cm.shape[0]):\n",
    "#    for j in range(cm.shape[1]):\n",
    "#        ax.text(j, i, format(cm[i, j], fmt),ha=\"center\", va=\"center\",size=20 , color=\"white\" if cm[i, j] > thresh else \"black\")\n",
    "\n",
    "#------------ Feature importances\n",
    "importances = clf.feature_importances_\n",
    "indices = np.argsort(importances)[::-1]\n",
    "lfi=len(importances)\n",
    "features=np.array(list(['nc','ad','den','Dnc','Dad','Dden']))\n",
    "features_tex=[\"$\\eta$\",\"$\\delta$\",r'$\\varrho$',\"$\\Delta \\eta$\",\"$\\Delta \\delta$\",r'$\\Delta \\varrho$']\n",
    "\n",
    "\n",
    "#------------ Plot the feature importances\n",
    "ax = fig.add_subplot(1,2,2,aspect=14,rasterized=True)\n",
    "plt.bar(range(lfi), importances[indices], color=\"#0a337a\", align=\"center\")\n",
    "plt.xticks(range(lfi), list(np.array(features_tex)[indices]), rotation=45, size=15)\n",
    "plt.grid()\n",
    "plt.ylabel(\"Feature Importance\",size=20)\n",
    "plt.xlim([-1, lfi])\n",
    "\n",
    "fig.suptitle('Max Depth=10 N Est=80  $M_{r}$<-16  $\\lambda_{th}$=0.1   $\\sigma$=1.5  $\\\\beta$=1',size=25)\n",
    "fig.subplots_adjust(top=0.97)\n",
    "fig.tight_layout()\n",
    "\n",
    "plt.savefig('./figures/evaluation.png', bbox_inches='tight', resterized=True, transparent=True)\n",
    "plt.show()"
   ]
  },
  {
   "cell_type": "code",
   "execution_count": 6,
   "metadata": {},
   "outputs": [],
   "source": [
    "#***Saving all data in a hdf5 file including the new featuras, IDh, IDG, Galaxymass Age, Enviroment ***\n",
    "    \n",
    "f1 = h5py.File(path+'All_features.hdf5','w')\n",
    "dt = h5py.special_dtype(vlen=np.dtype('int64'))\n",
    "f1.create_dataset('ID', data = ID)\n",
    "f1.create_dataset('nc', data = nc)\n",
    "f1.create_dataset('coor', data = (x,y,z))\n",
    "f1.create_dataset('ad', data = ad)\n",
    "f1.create_dataset('den', data = den)\n",
    "f1.create_dataset('Dnc', data = Dnc)\n",
    "f1.create_dataset('Dad', data = Dad)\n",
    "f1.create_dataset('Dden', data = Dden)\n",
    "f1.create_dataset('IDH', data = IDH)#ID del halo al que pertenece cada galaxia\n",
    "f1.create_dataset('IDG', data = IDG)#ID real de las galaxias\n",
    "f1.create_dataset('Zformation',data=zformation)\n",
    "f1.create_dataset('Age', data = Edad)\n",
    "f1.create_dataset('GalaxyMass', data = Mass)\n",
    "f1.create_dataset('enviroment', data = Ypred)\n",
    "    \n",
    "f1.close()"
   ]
  },
  {
   "cell_type": "code",
   "execution_count": null,
   "metadata": {},
   "outputs": [],
   "source": [
    "\n"
   ]
  },
  {
   "cell_type": "code",
   "execution_count": null,
   "metadata": {},
   "outputs": [],
   "source": []
  }
 ],
 "metadata": {
  "kernelspec": {
   "display_name": "Python 3",
   "language": "python",
   "name": "python3"
  },
  "language_info": {
   "codemirror_mode": {
    "name": "ipython",
    "version": 3
   },
   "file_extension": ".py",
   "mimetype": "text/x-python",
   "name": "python",
   "nbconvert_exporter": "python",
   "pygments_lexer": "ipython3",
   "version": "3.8.5"
  }
 },
 "nbformat": 4,
 "nbformat_minor": 4
}
