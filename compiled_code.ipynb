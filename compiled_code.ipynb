{
 "cells": [
  {
   "cell_type": "code",
   "execution_count": 1,
   "metadata": {},
   "outputs": [
    {
     "data": {
      "text/plain": [
       "<Figure size 1080x360 with 0 Axes>"
      ]
     },
     "metadata": {},
     "output_type": "display_data"
    }
   ],
   "source": [
    "import numpy as np\n",
    "import h5py\n",
    "\n",
    "from matplotlib.pylab import *\n",
    "import matplotlib.pyplot as plt\n",
    "import numpy.linalg as la\n",
    "import bsk\n",
    "\n",
    "import pandas as pd\n",
    "import os\n",
    "from tqdm.notebook import tqdm\n",
    "\n",
    "params = {'legend.fontsize': 'x-large',\n",
    "          'figure.figsize': (15, 5),\n",
    "         'axes.labelsize': 25,\n",
    "         'axes.titlesize': 25,\n",
    "         'xtick.labelsize':'x-large',\n",
    "         'ytick.labelsize':'x-large'}\n",
    "mpl.rcParams.update(params)\n",
    "plt.jet()\n",
    "\n",
    "path = './data/'"
   ]
  },
  {
   "cell_type": "code",
   "execution_count": null,
   "metadata": {},
   "outputs": [],
   "source": [
    "#----------------- Reading assembly info\n",
    "info = np.loadtxt('/Users/usuario-mac/Desktop/NEW_301/Galaxy/Galaxies_All/Data_Skeleton/Quartiles/edadesLimpias.txt')\n",
    "\n",
    "IDH = np.int_(info[:,0])\n",
    "IDG = np.int_(info[:,1])\n",
    "z_formation = info[:,2]\n",
    "age_quartil = np.int_(info[:,3]) #-1(no tree),1(1Q),2(2Q),3(3Q),4(4Q)\n",
    "galaxy_mass = info[:,4]\n",
    "\n",
    "pos_file = \"Pos_Limpias.txt\"\n",
    "\n",
    "#----------------- Computing beta-skeleton with Filipo code\n",
    "if os.path.isfile('./HackingLSSCode/bin/LSS_BSK_calc'):\n",
    "    print(\"Computing BSK for Beta=1.0\")\n",
    "    command = 'sh run_BSK.sh '+path+pos_file+' '+pos_file[:-4]+' 1.0'\n",
    "    print (command)\n",
    "    os.system(command)\n",
    "    print(\"BSK completed! \\n \"+pos_file[:-4]+\".BSKIndex created!\")\n",
    "\n",
    "    #----------------- Reading files with beta-skeleton results\n",
    "    betafile = pos_file[:-4]+\".BSKIndex\"\n",
    "    ca, cb = loadtxt(path+betafile, unpack = True)\n",
    "    x,y,z = loadtxt(path+pos_file, unpack = True)\n",
    "    ca = ca.astype(int)\n",
    "    cb = cb.astype(int)\n",
    "\n",
    "    #----------------- Computing all features form b-skeleton\n",
    "    Max = len(x)\n",
    "    ID,nc,con = bsk.number_connections(Max,ca,cb)\n",
    "\n",
    "    ad,vol,den = bsk.features(Max,ID,x,y,z,con,nc)\n",
    "\n",
    "    #----------------- New definitons of ad,nc, den\n",
    "    ad = ad/np.mean(ad)    \n",
    "    ncn = nc.astype(float)-np.median(nc.astype(float))\n",
    "    den = np.log(den)\n",
    "\n",
    "    Dnc, Dad, Dden = bsk.neigh_features(Max,ID,nc,ncn,ad,den,con)\n",
    "else:\n",
    "    print(\"Error: First run the makefile in HackingLSSCode/src/\")"
   ]
  },
  {
   "cell_type": "code",
   "execution_count": null,
   "metadata": {},
   "outputs": [],
   "source": [
    "zin =3\n",
    "zlim = (max(z) - min(z))/2 + min(z)# Plane in z axis to plot the Bskeleton\n",
    "maskzm = z < (zlim + zin)\n",
    "maskzM = z > (zlim - zin)\n",
    "IDzm = ID[maskzm & maskzM]\n",
    "\n",
    "fig = plt.figure(figsize = (10,10))\n",
    "plt.title(r'$\\beta$-Skeleton',size=30)\n",
    "plt.xlabel(\"x [Mpc]\",size=25)\n",
    "plt.ylabel(\"y [Mpc]\",size=25)\n",
    "for k in IDzm:\n",
    "    for j in con[k]:\n",
    "        plt.plot([x[k],x[j]],[y[k],y[j]],'bo-',markersize=2, c=\"#0a337a\")\n",
    "plt.savefig('./figures/bskQ1.png', bbox_inches='tight', resterized=True, transparent=True)\n",
    "plt.show()"
   ]
  },
  {
   "cell_type": "code",
   "execution_count": null,
   "metadata": {},
   "outputs": [],
   "source": [
    "from sklearn.ensemble.forest import RandomForestClassifier\n",
    "import pickle\n",
    "classes = np.array(['Peaks','Filaments','Sheets','Voids'])"
   ]
  },
  {
   "cell_type": "code",
   "execution_count": null,
   "metadata": {},
   "outputs": [],
   "source": [
    "Xdata = pd.DataFrame({'nc':nc,'ad':ad,'den':den,'Dnc':Dnc,'Dad':Dad,'Dden':Dden})\n",
    "clf = pickle.load(open(path+'cosmicweb_bsk_model_mass.sav','rb'))\n",
    "environment = clf.predict(Xdata)"
   ]
  },
  {
   "cell_type": "code",
   "execution_count": null,
   "metadata": {},
   "outputs": [],
   "source": [
    "f1 = h5py.File(path+'all_features.hdf5','w')\n",
    "dt = h5py.special_dtype(vlen=np.dtype('int64'))\n",
    "f1.create_dataset('ID', data = ID)\n",
    "f1.create_dataset('nc', data = nc)\n",
    "f1.create_dataset('coor', data = (x,y,z))\n",
    "f1.create_dataset('ad', data = ad)\n",
    "f1.create_dataset('den', data = den)\n",
    "f1.create_dataset('Dnc', data = Dnc)\n",
    "f1.create_dataset('Dad', data = Dad)\n",
    "f1.create_dataset('Dden', data = Dden)\n",
    "f1.create_dataset('IDH', data = IDH)#ID del halo al que pertenece cada galaxia\n",
    "f1.create_dataset('IDG', data = IDG)#ID real de las galaxias\n",
    "f1.create_dataset('z',data = z_formation)\n",
    "f1.create_dataset('age', data = age_quartil)\n",
    "f1.create_dataset('galaxy_mass', data = galaxy_mass)\n",
    "f1.create_dataset('enviroment', data = environment)\n",
    "f1.close()"
   ]
  }
 ],
 "metadata": {
  "kernelspec": {
   "display_name": "Python 3",
   "language": "python",
   "name": "python3"
  },
  "language_info": {
   "codemirror_mode": {
    "name": "ipython",
    "version": 3
   },
   "file_extension": ".py",
   "mimetype": "text/x-python",
   "name": "python",
   "nbconvert_exporter": "python",
   "pygments_lexer": "ipython3",
   "version": "3.7.7"
  }
 },
 "nbformat": 4,
 "nbformat_minor": 4
}
